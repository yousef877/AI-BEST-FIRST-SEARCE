{
  "nbformat": 4,
  "nbformat_minor": 0,
  "metadata": {
    "colab": {
      "provenance": [],
      "toc_visible": true,
      "authorship_tag": "ABX9TyNWWwU61vM6tDva5P/Vhvqm",
      "include_colab_link": true
    },
    "kernelspec": {
      "name": "python3",
      "display_name": "Python 3"
    },
    "language_info": {
      "name": "python"
    }
  },
  "cells": [
    {
      "cell_type": "markdown",
      "metadata": {
        "id": "view-in-github",
        "colab_type": "text"
      },
      "source": [
        "<a href=\"https://colab.research.google.com/github/yousef877/AI-BEST-FIRST-SEARCE/blob/main/yousef_almajed.ipynb\" target=\"_parent\"><img src=\"https://colab.research.google.com/assets/colab-badge.svg\" alt=\"Open In Colab\"/></a>"
      ]
    },
    {
      "cell_type": "code",
      "source": [
        "MAX, MIN = 1000, -1000 \n",
        "def minimax(depth, nodeIndex, maximizingPlayer, \n",
        "\t\t\tvalues, alpha, beta): \n",
        "\n",
        "\tif depth == 3: \n",
        "\t\treturn values[nodeIndex] \n",
        "\n",
        "\tif maximizingPlayer: \n",
        "\t\n",
        "\t\tbest = MIN\n",
        "\n",
        "\t\tfor i in range(0, 2): \n",
        "\t\t\t\n",
        "\t\t\tval = minimax(depth + 1, nodeIndex * 2 + i, \n",
        "\t\t\t\t\t\tFalse, values, alpha, beta) \n",
        "\t\t\tbest = max(best, val) \n",
        "\t\t\talpha = max(alpha, best) \n",
        "\n",
        "\t\t\tif beta <= alpha: \n",
        "\t\t\t\tbreak\n",
        "\t\t\n",
        "\t\treturn best \n",
        "\t\n",
        "\telse: \n",
        "\t\tbest = MAX\n",
        "\t\tfor i in range(0, 2): \n",
        "\t\t\n",
        "\t\t\tval = minimax(depth + 1, nodeIndex * 2 + i, \n",
        "\t\t\t\t\t\t\tTrue, values, alpha, beta) \n",
        "\t\t\tbest = min(best, val) \n",
        "\t\t\tbeta = min(beta, best) \n",
        "\t\t\tif beta <= alpha: \n",
        "\t\t\t\tbreak\n",
        "\t\t\n",
        "\t\treturn best \n",
        "\t\n",
        "if __name__== \"__main__\": \n",
        "    values = []\n",
        "    for i in range(0, 8):\n",
        "\n",
        "        x = int(input(f\"Enter Value {i}  : \"))\n",
        "        values.append(x)\n",
        "\n",
        "    print (\"The optimal value is :\", minimax(0, 0, True, values, MIN, MAX))"
      ],
      "metadata": {
        "id": "NtLtiiT2Cqid"
      },
      "execution_count": null,
      "outputs": []
    },
    {
      "cell_type": "code",
      "source": [
        "def permute(list, s):\n",
        "    if list==1:\n",
        "        return s\n",
        "    else:\n",
        "        return [\n",
        "            x+y\n",
        "            for y in permute(1, s) \n",
        "            for x in permute(list - 1, s)\n",
        "        ]\n",
        "print(permute(1, [\"a\", \"b\", \"c\"])) \n",
        "print(permute(2, [\"a\", \"b\", \"c\"])) \n",
        "print(permute(3, [\"a\", \"b\", \"c\"]))"
      ],
      "metadata": {
        "colab": {
          "base_uri": "https://localhost:8080/"
        },
        "id": "Y4fQvyewt3R1",
        "outputId": "859c8c6e-40ce-446e-f29f-47ed2c97b309"
      },
      "execution_count": 1,
      "outputs": [
        {
          "output_type": "stream",
          "name": "stdout",
          "text": [
            "['a', 'b', 'c']\n",
            "['aa', 'ba', 'ca', 'ab', 'bb', 'cb', 'ac', 'bc', 'cc']\n",
            "['aaa', 'baa', 'caa', 'aba', 'bba', 'cba', 'aca', 'bca', 'cca', 'aab', 'bab', 'cab', 'abb', 'bbb', 'cbb', 'acb', 'bcb', 'ccb', 'aac', 'bac', 'cac', 'abc', 'bbc', 'cbc', 'acc', 'bcc', 'ccc']\n"
          ]
        }
      ]
    }
  ]
}