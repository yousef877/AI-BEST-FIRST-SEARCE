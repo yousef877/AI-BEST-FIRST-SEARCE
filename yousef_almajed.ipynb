{
  "nbformat": 4,
  "nbformat_minor": 0,
  "metadata": {
    "colab": {
      "provenance": [],
      "toc_visible": true,
      "authorship_tag": "ABX9TyPexmQMhBF1ySyF1nkh9Ev8",
      "include_colab_link": true
    },
    "kernelspec": {
      "name": "python3",
      "display_name": "Python 3"
    },
    "language_info": {
      "name": "python"
    }
  },
  "cells": [
    {
      "cell_type": "markdown",
      "metadata": {
        "id": "view-in-github",
        "colab_type": "text"
      },
      "source": [
        "<a href=\"https://colab.research.google.com/github/yousef877/AI-BEST-FIRST-SEARCE/blob/main/yousef_almajed.ipynb\" target=\"_parent\"><img src=\"https://colab.research.google.com/assets/colab-badge.svg\" alt=\"Open In Colab\"/></a>"
      ]
    },
    {
      "cell_type": "code",
      "source": [
        "import cv2 # استدعاء المكتبة\n",
        "#===== قيم المعنى النموذجي =====\n",
        "MODEL_MEAN_VALUES = (78.4463377603,\n",
        "                     87.7689143744,\n",
        "                     114.895847746)\n",
        "#===== انشاء ليستة للاعمار ======\n",
        "age_list =['(0, 2)','(4, 6)','(8, 12)',\n",
        "           '(15,20)','(25,32)','(38, 43)','(48, 53)',\n",
        "           '(60, 100)'\n",
        "           ]\n",
        "#===== ليستة تحديد الجنس ========\n",
        "gender_list =['Male','Female']\n",
        "#===== استدعاء ملفات التي تتعرف على العمر والجنس =====\n",
        "def filesGet():\n",
        "    age_net = cv2.dnn.readNetFromCaffe(\n",
        "        'data/deploy_age.prototxt',\n",
        "        'data/age_net.caffemodel'\n",
        "    )\n",
        "    gender_net= cv2.dnn.readNetFromCaffe(\n",
        "        'data/deploy_gender.prototxt',\n",
        "        'data/gender_net.caffemodel'\n",
        "    )\n",
        "    return(age_net, gender_net)\n",
        "\n",
        "def read_from_camera(age_net,gender_net):\n",
        "    font = cv2.FONT_HERSHEY_SIMPLEX # نوع الخط\n",
        "    image= cv2.imread('images/girl1.jpg') # استدعاء الصورة\n",
        "    #===== الملف الخاص بتحديد الوجه ======\n",
        "    face_cascade =cv2.CascadeClassifier('data/haarcascade_frontalface_alt.xml')\n",
        "    #===== تحديد نظام الاولوان ====\n",
        "    gray = cv2.cvtColor(image, cv2.COLOR_BGR2GRAY) \n",
        "    #===== كشف وجوه متعددة في الصورة الواحدة =====\n",
        "    faces = face_cascade.detectMultiScale(gray, 1.1,5)\n",
        "    if(len(faces)>0): #تحديد عدد الوجوه\n",
        "        print(\"Found {} Faces\".format(str(len(faces))))\n",
        "    \n",
        "    for(x, y, w, h)in faces:\n",
        "        #رسم مستطيل\n",
        "        cv2.rectangle(image, (x,y),(x+w, y+h),(255,255,0),2)\n",
        "        #جلب وجه ونسخه ارسالها الى الخوازمية\n",
        "        face_img= image[y:y+h, h:h+w].copy()\n",
        "        blob = cv2.dnn.blobFromImage(face_img, 1, (227,227),MODEL_MEAN_VALUES, swapRB=False)\n",
        "        #=== توقع الجنس =====\n",
        "        gender_net.setInput(blob)\n",
        "        gender_p =gender_net.forward() # output\n",
        "        gender = gender_list[gender_p[0].argmax()]\n",
        "        print(\"Gender : \" + gender)\n",
        "        #=== توقع العمر =====\n",
        "        age_net.setInput(blob)\n",
        "        age_p =age_net.forward() # output\n",
        "        age = age_list[age_p[0].argmax()]\n",
        "        print(\"Age : \" + age)\n",
        "        G_A = \"%s %s\" % (gender , age)\n",
        "        cv2.putText(image, G_A, (x,y) , font , 1 , (255,255,255) , 2 , cv2.LINE_AA)\n",
        "        cv2.imshow('R', image)\n",
        "    cv2.waitKey(0)\n",
        "if __name__ == \"__main__\":\n",
        "    age_net, gender_net = filesGet()\n",
        "    read_from_camera(age_net,gender_net) "
      ],
      "metadata": {
        "id": "JJj9LBbTZDb2",
        "outputId": "dd531a79-d5eb-47c7-972c-c694f7fac202",
        "colab": {
          "base_uri": "https://localhost:8080/",
          "height": 357
        }
      },
      "execution_count": 1,
      "outputs": [
        {
          "output_type": "error",
          "ename": "error",
          "evalue": "ignored",
          "traceback": [
            "\u001b[0;31m---------------------------------------------------------------------------\u001b[0m",
            "\u001b[0;31merror\u001b[0m                                     Traceback (most recent call last)",
            "\u001b[0;32m<ipython-input-1-8cbbb9ad58ed>\u001b[0m in \u001b[0;36m<module>\u001b[0;34m\u001b[0m\n\u001b[1;32m     56\u001b[0m     \u001b[0mcv2\u001b[0m\u001b[0;34m.\u001b[0m\u001b[0mwaitKey\u001b[0m\u001b[0;34m(\u001b[0m\u001b[0;36m0\u001b[0m\u001b[0;34m)\u001b[0m\u001b[0;34m\u001b[0m\u001b[0;34m\u001b[0m\u001b[0m\n\u001b[1;32m     57\u001b[0m \u001b[0;32mif\u001b[0m \u001b[0m__name__\u001b[0m \u001b[0;34m==\u001b[0m \u001b[0;34m\"__main__\"\u001b[0m\u001b[0;34m:\u001b[0m\u001b[0;34m\u001b[0m\u001b[0;34m\u001b[0m\u001b[0m\n\u001b[0;32m---> 58\u001b[0;31m     \u001b[0mage_net\u001b[0m\u001b[0;34m,\u001b[0m \u001b[0mgender_net\u001b[0m \u001b[0;34m=\u001b[0m \u001b[0mfilesGet\u001b[0m\u001b[0;34m(\u001b[0m\u001b[0;34m)\u001b[0m\u001b[0;34m\u001b[0m\u001b[0;34m\u001b[0m\u001b[0m\n\u001b[0m\u001b[1;32m     59\u001b[0m     \u001b[0mread_from_camera\u001b[0m\u001b[0;34m(\u001b[0m\u001b[0mage_net\u001b[0m\u001b[0;34m,\u001b[0m\u001b[0mgender_net\u001b[0m\u001b[0;34m)\u001b[0m\u001b[0;34m\u001b[0m\u001b[0;34m\u001b[0m\u001b[0m\n",
            "\u001b[0;32m<ipython-input-1-8cbbb9ad58ed>\u001b[0m in \u001b[0;36mfilesGet\u001b[0;34m()\u001b[0m\n\u001b[1;32m     15\u001b[0m     age_net = cv2.dnn.readNetFromCaffe(\n\u001b[1;32m     16\u001b[0m         \u001b[0;34m'data/deploy_age.prototxt'\u001b[0m\u001b[0;34m,\u001b[0m\u001b[0;34m\u001b[0m\u001b[0;34m\u001b[0m\u001b[0m\n\u001b[0;32m---> 17\u001b[0;31m         \u001b[0;34m'data/age_net.caffemodel'\u001b[0m\u001b[0;34m\u001b[0m\u001b[0;34m\u001b[0m\u001b[0m\n\u001b[0m\u001b[1;32m     18\u001b[0m     )\n\u001b[1;32m     19\u001b[0m     gender_net= cv2.dnn.readNetFromCaffe(\n",
            "\u001b[0;31merror\u001b[0m: OpenCV(4.6.0) /io/opencv/modules/dnn/src/caffe/caffe_io.cpp:1126: error: (-2:Unspecified error) FAILED: fs.is_open(). Can't open \"data/deploy_age.prototxt\" in function 'ReadProtoFromTextFile'\n"
          ]
        }
      ]
    },
    {
      "cell_type": "code",
      "source": [
        "def permute(list, s):\n",
        "    if list==1:\n",
        "        return s\n",
        "    else:\n",
        "        return [\n",
        "            x+y\n",
        "            for y in permute(1, s) \n",
        "            for x in permute(list - 1, s)\n",
        "        ]\n",
        "print(permute(1, [\"a\", \"b\", \"c\"])) \n",
        "print(permute(2, [\"a\", \"b\", \"c\"])) \n",
        "print(permute(3, [\"a\", \"b\", \"c\"]))"
      ],
      "metadata": {
        "colab": {
          "base_uri": "https://localhost:8080/"
        },
        "id": "Y4fQvyewt3R1",
        "outputId": "859c8c6e-40ce-446e-f29f-47ed2c97b309"
      },
      "execution_count": null,
      "outputs": [
        {
          "output_type": "stream",
          "name": "stdout",
          "text": [
            "['a', 'b', 'c']\n",
            "['aa', 'ba', 'ca', 'ab', 'bb', 'cb', 'ac', 'bc', 'cc']\n",
            "['aaa', 'baa', 'caa', 'aba', 'bba', 'cba', 'aca', 'bca', 'cca', 'aab', 'bab', 'cab', 'abb', 'bbb', 'cbb', 'acb', 'bcb', 'ccb', 'aac', 'bac', 'cac', 'abc', 'bbc', 'cbc', 'acc', 'bcc', 'ccc']\n"
          ]
        }
      ]
    }
  ]
}