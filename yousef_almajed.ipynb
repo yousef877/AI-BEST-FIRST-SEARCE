{
  "nbformat": 4,
  "nbformat_minor": 0,
  "metadata": {
    "colab": {
      "provenance": [],
      "toc_visible": true,
      "authorship_tag": "ABX9TyPu7Sa9Bb+ROQdyetGvaiXP",
      "include_colab_link": true
    },
    "kernelspec": {
      "name": "python3",
      "display_name": "Python 3"
    },
    "language_info": {
      "name": "python"
    }
  },
  "cells": [
    {
      "cell_type": "markdown",
      "metadata": {
        "id": "view-in-github",
        "colab_type": "text"
      },
      "source": [
        "<a href=\"https://colab.research.google.com/github/yousef877/AI-BEST-FIRST-SEARCE/blob/main/yousef_almajed.ipynb\" target=\"_parent\"><img src=\"https://colab.research.google.com/assets/colab-badge.svg\" alt=\"Open In Colab\"/></a>"
      ]
    },
    {
      "cell_type": "code",
      "source": [
        "import cv2 # استدعاء المكتبة\n",
        "#===== قيم المعنى النموذجي =====\n",
        "MODEL_MEAN_VALUES = (78.4463377603,\n",
        "                     87.7689143744,\n",
        "                     114.895847746)\n",
        "#===== انشاء ليستة للاعمار ======\n",
        "age_list =['(0, 2)','(4, 6)','(8, 12)',\n",
        "           '(15,20)','(25,32)','(38, 43)','(48, 53)',\n",
        "           '(60, 100)'\n",
        "           ]\n",
        "#===== ليستة تحديد الجنس ========\n",
        "gender_list =['Male','Female']\n",
        "#===== استدعاء ملفات التي تتعرف على العمر والجنس =====\n",
        "def filesGet():\n",
        "    age_net = cv2.dnn.readNetFromCaffe(\n",
        "        'data/deploy_age.prototxt',\n",
        "        'data/age_net.caffemodel'\n",
        "    )\n",
        "    gender_net= cv2.dnn.readNetFromCaffe(\n",
        "        'data/deploy_gender.prototxt',\n",
        "        'data/gender_net.caffemodel'\n",
        "    )\n",
        "    return(age_net, gender_net)\n",
        "\n",
        "def read_from_camera(age_net,gender_net):\n",
        "    font = cv2.FONT_HERSHEY_SIMPLEX # نوع الخط\n",
        "    image= cv2.imread('images/girl1.jpg') # استدعاء الصورة\n",
        "    #===== الملف الخاص بتحديد الوجه ======\n",
        "    face_cascade =cv2.CascadeClassifier('data/haarcascade_frontalface_alt.xml')\n",
        "    #===== تحديد نظام الاولوان ====\n",
        "    gray = cv2.cvtColor(image, cv2.COLOR_BGR2GRAY) \n",
        "    #===== كشف وجوه متعددة في الصورة الواحدة =====\n",
        "    faces = face_cascade.detectMultiScale(gray, 1.1,5)\n",
        "    if(len(faces)>0): #تحديد عدد الوجوه\n",
        "        print(\"Found {} Faces\".format(str(len(faces))))\n",
        "    \n",
        "    for(x, y, w, h)in faces:\n",
        "        #رسم مستطيل\n",
        "        cv2.rectangle(image, (x,y),(x+w, y+h),(255,255,0),2)\n",
        "        #جلب وجه ونسخه ارسالها الى الخوازمية\n",
        "        face_img= image[y:y+h, h:h+w].copy()\n",
        "        blob = cv2.dnn.blobFromImage(face_img, 1, (227,227),MODEL_MEAN_VALUES, swapRB=False)\n",
        "        #=== توقع الجنس =====\n",
        "        gender_net.setInput(blob)\n",
        "        gender_p =gender_net.forward() # output\n",
        "        gender = gender_list[gender_p[0].argmax()]\n",
        "        print(\"Gender : \" + gender)\n",
        "        #=== توقع العمر =====\n",
        "        age_net.setInput(blob)\n",
        "        age_p =age_net.forward() # output\n",
        "        age = age_list[age_p[0].argmax()]\n",
        "        print(\"Age : \" + age)\n",
        "        G_A = \"%s %s\" % (gender , age)\n",
        "        cv2.putText(image, G_A, (x,y) , font , 1 , (255,255,255) , 2 , cv2.LINE_AA)\n",
        "        cv2.imshow('R', image)\n",
        "    cv2.waitKey(0)\n",
        "if __name__ == \"__main__\":\n",
        "    age_net, gender_net = filesGet()\n",
        "    read_from_camera(age_net,gender_net) "
      ],
      "metadata": {
        "id": "SDasFFpfZ14H"
      },
      "execution_count": null,
      "outputs": []
    }
  ]
}