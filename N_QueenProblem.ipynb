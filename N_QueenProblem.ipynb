{
  "nbformat": 4,
  "nbformat_minor": 0,
  "metadata": {
    "colab": {
      "provenance": []
    },
    "kernelspec": {
      "name": "python3",
      "display_name": "Python 3"
    },
    "language_info": {
      "name": "python"
    }
  },
  "cells": [
    {
      "cell_type": "code",
      "execution_count": null,
      "metadata": {
        "colab": {
          "base_uri": "https://localhost:8080/"
        },
        "id": "MNGPad__jbKG",
        "outputId": "00a6f889-c978-4223-f790-1074e30c6285"
      },
      "outputs": [
        {
          "output_type": "stream",
          "name": "stdout",
          "text": [
            "Q-------\n",
            "\n",
            "------Q-\n",
            "\n",
            "----Q---\n",
            "\n",
            "-------Q\n",
            "\n",
            "-Q------\n",
            "\n",
            "---Q----\n",
            "\n",
            "-----Q--\n",
            "\n",
            "--Q-----\n",
            "\n"
          ]
        }
      ],
      "source": [
        "class NQueens:\n",
        "    def\t__init__(self, n):\n",
        "        self.n = n \n",
        "        self.chess_table = [[0 for i in range(n)] for j in range(n)] \n",
        "    def print_queens(self):\n",
        "        for i in range(self.n):\n",
        "            for j in range(self.n):\n",
        "                if self.chess_table[i][j]==1:\n",
        "                    print(\"Q\",end=\"\")\n",
        "                else:\n",
        "                    print(\"-\" , end=\"\") \n",
        "            print(\"\\n\") \n",
        "    def is_place_safe(self, row_index, col_index):\n",
        "        for i in range(self.n):\n",
        "            if self.chess_table[row_index][i]==1:\n",
        "                return False\n",
        "        j = col_index \n",
        "        for i in range(row_index, -1, -1):\n",
        "            if i<0:\n",
        "                break \n",
        "            if self.chess_table[i][j]==1:\n",
        "                return False\n",
        "            j=j-1\n",
        "        j = col_index \n",
        "        for i in range(row_index, self.n):\n",
        "            if i < 0:\n",
        "                break \n",
        "            if self.chess_table[i][j]==1:\n",
        "                return False\n",
        "            j=j-1\n",
        "        return True \n",
        "    def solve(self, col_index):\n",
        "        if col_index==self.n:\n",
        "            return True \n",
        "        for row_index in range(self.n):\n",
        "            if self.is_place_safe(row_index, col_index):\n",
        "                self.chess_table[row_index][col_index] = 1 \n",
        "                if self.solve(col_index+1):\n",
        "                    return True \n",
        "                self.chess_table[row_index][col_index] = 0 \n",
        "        return False \n",
        "    def solve_NQueens(self):\n",
        "        if self.solve(0):\n",
        "            self.print_queens() \n",
        "        else:\n",
        "            print(\"No solution exists for the problem\") \n",
        "queens = NQueens(8) \n",
        "queens.solve_NQueens()\n"
      ]
    }
  ]
}